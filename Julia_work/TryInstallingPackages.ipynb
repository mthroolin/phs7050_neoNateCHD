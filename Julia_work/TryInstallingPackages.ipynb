{
 "cells": [
  {
   "cell_type": "markdown",
   "id": "0bdbce0b",
   "metadata": {},
   "source": [
    "Percent_of_feeds_taken_by_mouth_at_discharge #Response\n",
    "            ~Pre_Op_NNNS_attention_score (1)+\n",
    "              Post_Op_NNNS_attention_score (2)+\n",
    "              Female (3) +Genetic_Syndrome_or_Chromosomal_Abnormality (4)+\n",
    "              Age_at_Surgery_days (5) +Cardiac_Anatomy (6)+\n",
    "              Length_of_intubation_days (7)+Length_of_Stay_days (8)+\n",
    "              Extubation_failure (9) +GI_Complication (10)+Premature (11)"
   ]
  },
  {
   "cell_type": "code",
   "execution_count": 5,
   "id": "40867f91",
   "metadata": {},
   "outputs": [
    {
     "ename": "ERROR",
     "evalue": "Error: package or namespace load failed for ‘kableExtra’ in loadNamespace(j <- i[[1L]], c(lib.loc, .libPaths()), versionCheck = vI[[j]]):\n there is no package called ‘svglite’\n",
     "output_type": "error",
     "traceback": [
      "Error: package or namespace load failed for ‘kableExtra’ in loadNamespace(j <- i[[1L]], c(lib.loc, .libPaths()), versionCheck = vI[[j]]):\n there is no package called ‘svglite’\nTraceback:\n",
      "1. library(kableExtra)",
      "2. tryCatch({\n .     attr(package, \"LibPath\") <- which.lib.loc\n .     ns <- loadNamespace(package, lib.loc)\n .     env <- attachNamespace(ns, pos = pos, deps, exclude, include.only)\n . }, error = function(e) {\n .     P <- if (!is.null(cc <- conditionCall(e))) \n .         paste(\" in\", deparse(cc)[1L])\n .     else \"\"\n .     msg <- gettextf(\"package or namespace load failed for %s%s:\\n %s\", \n .         sQuote(package), P, conditionMessage(e))\n .     if (logical.return && !quietly) \n .         message(paste(\"Error:\", msg), domain = NA)\n .     else stop(msg, call. = FALSE, domain = NA)\n . })",
      "3. tryCatchList(expr, classes, parentenv, handlers)",
      "4. tryCatchOne(expr, names, parentenv, handlers[[1L]])",
      "5. value[[3L]](cond)",
      "6. stop(msg, call. = FALSE, domain = NA)"
     ]
    }
   ],
   "source": [
    "library(GGally)\n",
    "library(ggpubr)\n",
    "library(kableExtra)"
   ]
  },
  {
   "cell_type": "code",
   "execution_count": 2,
   "id": "084d4504",
   "metadata": {},
   "outputs": [
    {
     "name": "stderr",
     "output_type": "stream",
     "text": [
      "also installing the dependencies ‘labelled’, ‘broom.helpers’, ‘ggplot2’, ‘ggstats’\n",
      "\n",
      "\n",
      "Warning message in readRDS(dest):\n",
      "“lzma decoder corrupt data”\n"
     ]
    },
    {
     "name": "stdout",
     "output_type": "stream",
     "text": [
      "\n",
      "  There are binary versions available but the source versions are later:\n",
      "              binary source needs_compilation\n",
      "labelled      2.11.0 2.12.0             FALSE\n",
      "broom.helpers 1.13.0 1.14.0             FALSE\n",
      "ggplot2        3.4.2  3.4.4             FALSE\n",
      "ggstats        0.3.0  0.5.1             FALSE\n",
      "GGally         2.1.2  2.2.0             FALSE\n",
      "\n"
     ]
    },
    {
     "name": "stderr",
     "output_type": "stream",
     "text": [
      "installing the source packages ‘labelled’, ‘broom.helpers’, ‘ggplot2’, ‘ggstats’, ‘GGally’\n",
      "\n",
      "\n"
     ]
    }
   ],
   "source": [
    "install.packages('GGally')"
   ]
  },
  {
   "cell_type": "code",
   "execution_count": 4,
   "id": "6929fdaa",
   "metadata": {},
   "outputs": [
    {
     "name": "stderr",
     "output_type": "stream",
     "text": [
      "also installing the dependencies ‘webshot’, ‘svglite’\n",
      "\n",
      "\n"
     ]
    },
    {
     "name": "stdout",
     "output_type": "stream",
     "text": [
      "\n",
      "  There are binary versions available but the source versions are later:\n",
      "        binary source needs_compilation\n",
      "webshot  0.5.4  0.5.5             FALSE\n",
      "svglite  2.1.1  2.1.2              TRUE\n",
      "\n",
      "\n",
      "The downloaded binary packages are in\n",
      "\t/var/folders/zj/c3wdk4jn6k90m7qk6gskj8vm0000gp/T//RtmpGk6J90/downloaded_packages\n"
     ]
    },
    {
     "name": "stderr",
     "output_type": "stream",
     "text": [
      "installing the source packages ‘webshot’, ‘svglite’\n",
      "\n",
      "\n",
      "Warning message in install.packages(\"kableExtra\"):\n",
      "“installation of package ‘svglite’ had non-zero exit status”\n"
     ]
    }
   ],
   "source": [
    "install.packages('kableExtra')"
   ]
  },
  {
   "cell_type": "code",
   "execution_count": 6,
   "id": "bdc7af05",
   "metadata": {},
   "outputs": [
    {
     "name": "stdout",
     "output_type": "stream",
     "text": [
      "\n",
      "  There is a binary version available but the source version is later:\n",
      "        binary source needs_compilation\n",
      "svglite  2.1.1  2.1.2              TRUE\n",
      "\n"
     ]
    },
    {
     "name": "stderr",
     "output_type": "stream",
     "text": [
      "installing the source package ‘svglite’\n",
      "\n",
      "\n",
      "Warning message in install.packages(\"svglite\"):\n",
      "“installation of package ‘svglite’ had non-zero exit status”\n"
     ]
    }
   ],
   "source": [
    "install.packages('svglite')"
   ]
  },
  {
   "cell_type": "code",
   "execution_count": 7,
   "id": "d9b51cd2",
   "metadata": {},
   "outputs": [
    {
     "name": "stderr",
     "output_type": "stream",
     "text": [
      "also installing the dependency ‘rjags’\n",
      "\n",
      "\n"
     ]
    },
    {
     "name": "stdout",
     "output_type": "stream",
     "text": [
      "\n",
      "  There are binary versions available but the source versions are later:\n",
      "      binary source needs_compilation\n",
      "rjags   4-14   4-15              TRUE\n",
      "zoib   1.5.5    1.6             FALSE\n",
      "\n"
     ]
    },
    {
     "name": "stderr",
     "output_type": "stream",
     "text": [
      "installing the source packages ‘rjags’, ‘zoib’\n",
      "\n",
      "\n",
      "Warning message in install.packages(\"zoib\"):\n",
      "“installation of package ‘rjags’ had non-zero exit status”\n",
      "Warning message in install.packages(\"zoib\"):\n",
      "“installation of package ‘zoib’ had non-zero exit status”\n"
     ]
    }
   ],
   "source": [
    "install.packages('zoib')"
   ]
  },
  {
   "cell_type": "code",
   "execution_count": null,
   "id": "6ced6dc9",
   "metadata": {},
   "outputs": [],
   "source": []
  }
 ],
 "metadata": {
  "kernelspec": {
   "display_name": "R",
   "language": "R",
   "name": "ir"
  },
  "language_info": {
   "codemirror_mode": "r",
   "file_extension": ".r",
   "mimetype": "text/x-r-source",
   "name": "R",
   "pygments_lexer": "r",
   "version": "4.1.2"
  }
 },
 "nbformat": 4,
 "nbformat_minor": 5
}
