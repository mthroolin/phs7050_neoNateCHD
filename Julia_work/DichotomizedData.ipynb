{
 "cells": [
  {
   "cell_type": "code",
   "execution_count": 5,
   "id": "c161afbf",
   "metadata": {},
   "outputs": [],
   "source": [
    "library(tidyverse)\n",
    "library(MASS)\n",
    "library(dplyr)\n",
    "library(ggplot2)"
   ]
  },
  {
   "cell_type": "code",
   "execution_count": 2,
   "id": "80b649ad",
   "metadata": {},
   "outputs": [],
   "source": [
    "library(glue)"
   ]
  },
  {
   "cell_type": "markdown",
   "id": "5adf6cef",
   "metadata": {},
   "source": [
    "## Haojia's data cleaning"
   ]
  },
  {
   "cell_type": "code",
   "execution_count": 3,
   "id": "ebc599be",
   "metadata": {},
   "outputs": [],
   "source": [
    "data_dir <- '/Users/u1001626/Documents/PhD/Statistical Practice/Projects/Project2/phs7050_neoNateCHD'\n",
    "nnns0 <- read.csv(glue(\"{data_dir}/NNNS_score_data.csv\"))"
   ]
  },
  {
   "cell_type": "code",
   "execution_count": 6,
   "id": "f885843c",
   "metadata": {},
   "outputs": [],
   "source": [
    "# clean up variable names\n",
    "# remove the dots at the end of variable names\n",
    "colnames(nnns0) <- gsub(\"\\\\.+$\", \"\", colnames(nnns0))\n",
    "# replace all the dots in variable names with underscores\n",
    "colnames(nnns0) <- gsub(\"\\\\.+\", \"_\", colnames(nnns0))\n",
    "\n",
    "nnns <- nnns0 |> \n",
    "  \n",
    "  filter(\n",
    "    # exclude neurologic or airway anomaly\n",
    "    Neurologic_Complication == 0, AirwayAnomalyYN == 0,\n",
    "    # include infants from birth to 4 weeks old\n",
    "    # there are two outliers with age at surgery > 30 days\n",
    "    Age_at_Surgery_days <= 30\n",
    "  ) |>\n",
    "  \n",
    "  mutate(\n",
    "    \n",
    "    # some binary variables have values of 1/2 or Y/N, recode them to 0/1\n",
    "    Female = as.integer(sex_1_M_2_F == 2),\n",
    "    Premature = as.integer(Premature == 1),\n",
    "    Extubation_failure = as.integer(Extubation_failure == \"Y\"),\n",
    "    \n",
    "    # for model building purposes, combine the 2 levels w/o arch obstruction in cardiac anatomy\n",
    "    Cardiac_Anatomy = factor(case_when(\n",
    "      Cardiac_Anatomy %in% c(1,3) ~ 1,\n",
    "      Cardiac_Anatomy == 2 ~ 2,\n",
    "      Cardiac_Anatomy == 4 ~ 3\n",
    "    ), levels = 1:3, labels = c(\"W/o arch obstruction\", \"Single ventricle w/ arch obstruction\", \"Two ventricle w/ arch obstruction\"))\n",
    "    \n",
    "  ) |>\n",
    "  \n",
    "  # convert date variables to date class\n",
    "  mutate_at(\n",
    "    vars(\"Date_PO_feeds_started\", \"Date_Reaching_Full_PO\", \"Date_Identified_as_not_yet_full_PO\"), \n",
    "    as_date, format = \"%m/%d/%Y\"\n",
    "  ) |> \n",
    "  \n",
    "  # drop unnecessary variables\n",
    "  dplyr::select(!c(\n",
    "    \"sex_1_M_2_F\", # use Female instead\n",
    "    # \"Intubated_Pre_operatively\", \"bypass_used\", \"bypass_time_min\", # not of interest \n",
    "    \"Neurologic_Complication\", \"AirwayAnomalyYN\" # already excluded\n",
    "  )) \n",
    "\n",
    "# dichotomize attention scores\n",
    "nnns <- nnns |>\n",
    "  mutate(Pre_op_attention_2cat = ifelse(is.na(Pre_Op_NNNS_attention_score) | Pre_Op_NNNS_attention_score <= 3, 0, 1),\n",
    "         Post_op_attention_2cat = ifelse(is.na(Post_Op_NNNS_attention_score) | Post_Op_NNNS_attention_score <= 4, 0, 1))\n",
    "\n",
    "saveRDS(nnns, \"nnns_attention_2cat.rds\")"
   ]
  },
  {
   "cell_type": "code",
   "execution_count": 9,
   "id": "07317c56",
   "metadata": {},
   "outputs": [
    {
     "ename": "ERROR",
     "evalue": "Error in kable_styling(kable(arrange(mutate(rownames_to_column(mutate(filter(data.frame(nmiss = colSums(is.na(select(nnns, : could not find function \"kable_styling\"\n",
     "output_type": "error",
     "traceback": [
      "Error in kable_styling(kable(arrange(mutate(rownames_to_column(mutate(filter(data.frame(nmiss = colSums(is.na(select(nnns, : could not find function \"kable_styling\"\nTraceback:\n"
     ]
    }
   ],
   "source": [
    "# variables with missing data\n",
    "data.frame(nmiss = colSums(is.na(nnns |> select(-starts_with(\"Date\"))))) |>\n",
    "  # only keep variables with missing data\n",
    "  filter(nmiss > 0) |>\n",
    "  # add percentage\n",
    "  mutate(perc = round(nmiss / nrow(nnns) * 100, 1)) |>\n",
    "  # add variable names\n",
    "  rownames_to_column(\"variable\") |>\n",
    "  # match variable names with labels\n",
    "  mutate(variable = dict_nnns$label[match(variable, dict_nnns$name)]) |>\n",
    "  # sort by percentage\n",
    "  arrange(desc(perc)) |>\n",
    "  kable() |>\n",
    "  kable_styling(bootstrap_options = c(\"striped\", \"hover\", \"condensed\", \"responsive\"))"
   ]
  },
  {
   "cell_type": "code",
   "execution_count": null,
   "id": "3775a270",
   "metadata": {},
   "outputs": [],
   "source": []
  }
 ],
 "metadata": {
  "kernelspec": {
   "display_name": "R",
   "language": "R",
   "name": "ir"
  },
  "language_info": {
   "codemirror_mode": "r",
   "file_extension": ".r",
   "mimetype": "text/x-r-source",
   "name": "R",
   "pygments_lexer": "r",
   "version": "4.1.2"
  }
 },
 "nbformat": 4,
 "nbformat_minor": 5
}
