{
 "cells": [
  {
   "cell_type": "code",
   "execution_count": 2,
   "id": "2ea64a66",
   "metadata": {},
   "outputs": [],
   "source": [
    "library(gee)\n",
    "library(tidyr)\n",
    "library(ggplot2)\n",
    "library(nlme)\n",
    "library(lme4)\n",
    "library(lmerTest)\n",
    "library(pbkrtest)\n",
    "library(performance)\n",
    "library(mvtnorm)\n",
    "library(reshape2)\n",
    "library(dplyr)\n",
    "library(lmtest)\n",
    "library(glue)"
   ]
  },
  {
   "cell_type": "markdown",
   "id": "7dda683e",
   "metadata": {},
   "source": [
    "__Covariates with significant p-values:__<br>\n",
    "- Intubated.Pre.operatively\n",
    "- bypass.time..min.\n",
    "- Length.of.intubation..days.\n",
    "- GI.Complication\n",
    "- Genetic.Syndrome.or.Chromosomal.Abnormality"
   ]
  },
  {
   "cell_type": "code",
   "execution_count": 3,
   "id": "f9b0a560",
   "metadata": {},
   "outputs": [],
   "source": [
    "dat <- read.csv('exclusion_data.csv')"
   ]
  },
  {
   "cell_type": "code",
   "execution_count": 4,
   "id": "83aa3434",
   "metadata": {},
   "outputs": [
    {
     "data": {
      "text/plain": [
       "\n",
       "Call:\n",
       "lm(formula = Percent.of.feeds.taken.by.mouth.at.discharge ~ sex..1.M..2.F., \n",
       "    data = dat)\n",
       "\n",
       "Residuals:\n",
       "    Min      1Q  Median      3Q     Max \n",
       "-1.1986 -0.1986 -0.1356  0.1444  0.8444 \n",
       "\n",
       "Coefficients:\n",
       "               Estimate Std. Error t value Pr(>|t|)  \n",
       "(Intercept)     0.24159    0.11647   2.074   0.0403 *\n",
       "sex..1.M..2.F. -0.04302    0.07900  -0.545   0.5872  \n",
       "---\n",
       "Signif. codes:  0 ‘***’ 0.001 ‘**’ 0.01 ‘*’ 0.05 ‘.’ 0.1 ‘ ’ 1\n",
       "\n",
       "Residual standard error: 0.4134 on 113 degrees of freedom\n",
       "Multiple R-squared:  0.002617,\tAdjusted R-squared:  -0.006209 \n",
       "F-statistic: 0.2965 on 1 and 113 DF,  p-value: 0.5872\n"
      ]
     },
     "metadata": {},
     "output_type": "display_data"
    }
   ],
   "source": [
    "reg1 <- lm(data=dat,Percent.of.feeds.taken.by.mouth.at.discharge ~ sex..1.M..2.F.)\n",
    "summary(reg1)"
   ]
  },
  {
   "cell_type": "code",
   "execution_count": 5,
   "id": "c4ead50d",
   "metadata": {},
   "outputs": [
    {
     "data": {
      "text/plain": [
       "\n",
       "Call:\n",
       "lm(formula = Percent.of.feeds.taken.by.mouth.at.discharge ~ Age.at.Surgery..days., \n",
       "    data = dat)\n",
       "\n",
       "Residuals:\n",
       "    Min      1Q  Median      3Q     Max \n",
       "-1.2594 -0.1729 -0.1152  0.1421  0.8464 \n",
       "\n",
       "Coefficients:\n",
       "                      Estimate Std. Error t value Pr(>|t|)\n",
       "(Intercept)           0.105550   0.072850   1.449    0.150\n",
       "Age.at.Surgery..days. 0.009618   0.007819   1.230    0.221\n",
       "\n",
       "Residual standard error: 0.4112 on 113 degrees of freedom\n",
       "Multiple R-squared:  0.01321,\tAdjusted R-squared:  0.00448 \n",
       "F-statistic: 1.513 on 1 and 113 DF,  p-value: 0.2212\n"
      ]
     },
     "metadata": {},
     "output_type": "display_data"
    }
   ],
   "source": [
    "reg2 <- lm(data=dat,Percent.of.feeds.taken.by.mouth.at.discharge ~ Age.at.Surgery..days.)\n",
    "summary(reg2)"
   ]
  },
  {
   "cell_type": "code",
   "execution_count": 6,
   "id": "c021dfea",
   "metadata": {},
   "outputs": [
    {
     "data": {
      "text/plain": [
       "\n",
       "Call:\n",
       "lm(formula = Percent.of.feeds.taken.by.mouth.at.discharge ~ Intubated.Pre.operatively, \n",
       "    data = dat)\n",
       "\n",
       "Residuals:\n",
       "     Min       1Q   Median       3Q      Max \n",
       "-1.24974 -0.24974 -0.04395  0.17316  0.95605 \n",
       "\n",
       "Coefficients:\n",
       "                           Estimate Std. Error t value Pr(>|t|)    \n",
       "(Intercept)                 0.24974    0.04585   5.447 3.02e-07 ***\n",
       "Intubated.Pre.operativelyY -0.20579    0.07976  -2.580   0.0112 *  \n",
       "---\n",
       "Signif. codes:  0 ‘***’ 0.001 ‘**’ 0.01 ‘*’ 0.05 ‘.’ 0.1 ‘ ’ 1\n",
       "\n",
       "Residual standard error: 0.4023 on 113 degrees of freedom\n",
       "Multiple R-squared:  0.05564,\tAdjusted R-squared:  0.04728 \n",
       "F-statistic: 6.658 on 1 and 113 DF,  p-value: 0.01115\n"
      ]
     },
     "metadata": {},
     "output_type": "display_data"
    }
   ],
   "source": [
    "reg3 <- lm(data=dat,Percent.of.feeds.taken.by.mouth.at.discharge ~ Intubated.Pre.operatively)\n",
    "summary(reg3)"
   ]
  },
  {
   "cell_type": "code",
   "execution_count": 7,
   "id": "b650dd88",
   "metadata": {},
   "outputs": [
    {
     "data": {
      "text/plain": [
       "\n",
       "Call:\n",
       "lm(formula = Percent.of.feeds.taken.by.mouth.at.discharge ~ bypass.time..min., \n",
       "    data = dat)\n",
       "\n",
       "Residuals:\n",
       "    Min      1Q  Median      3Q     Max \n",
       "-1.1947 -0.1764 -0.1237  0.1343  0.8978 \n",
       "\n",
       "Coefficients:\n",
       "                    Estimate Std. Error t value Pr(>|t|)  \n",
       "(Intercept)        0.2871909  0.1178133   2.438   0.0163 *\n",
       "bypass.time..min. -0.0008257  0.0008720  -0.947   0.3457  \n",
       "---\n",
       "Signif. codes:  0 ‘***’ 0.001 ‘**’ 0.01 ‘*’ 0.05 ‘.’ 0.1 ‘ ’ 1\n",
       "\n",
       "Residual standard error: 0.4124 on 113 degrees of freedom\n",
       "Multiple R-squared:  0.007873,\tAdjusted R-squared:  -0.0009071 \n",
       "F-statistic: 0.8967 on 1 and 113 DF,  p-value: 0.3457\n"
      ]
     },
     "metadata": {},
     "output_type": "display_data"
    }
   ],
   "source": [
    "reg4 <- lm(data=dat,Percent.of.feeds.taken.by.mouth.at.discharge ~ bypass.time..min.)\n",
    "summary(reg4)"
   ]
  },
  {
   "cell_type": "code",
   "execution_count": 8,
   "id": "0470c169",
   "metadata": {},
   "outputs": [
    {
     "data": {
      "text/plain": [
       "\n",
       "Call:\n",
       "lm(formula = Percent.of.feeds.taken.by.mouth.at.discharge ~ bypass.used., \n",
       "    data = dat)\n",
       "\n",
       "Residuals:\n",
       "    Min      1Q  Median      3Q     Max \n",
       "-1.1804 -0.1804 -0.1304  0.1346  0.8196 \n",
       "\n",
       "Coefficients:\n",
       "             Estimate Std. Error t value Pr(>|t|)\n",
       "(Intercept)   0.23333    0.23896   0.976    0.331\n",
       "bypass.used. -0.05298    0.24214  -0.219    0.827\n",
       "\n",
       "Residual standard error: 0.4139 on 113 degrees of freedom\n",
       "Multiple R-squared:  0.0004234,\tAdjusted R-squared:  -0.008422 \n",
       "F-statistic: 0.04786 on 1 and 113 DF,  p-value: 0.8272\n"
      ]
     },
     "metadata": {},
     "output_type": "display_data"
    }
   ],
   "source": [
    "reg5 <- lm(data=dat,Percent.of.feeds.taken.by.mouth.at.discharge ~ bypass.used.)\n",
    "summary(reg5)"
   ]
  },
  {
   "cell_type": "code",
   "execution_count": 9,
   "id": "9ed19478",
   "metadata": {},
   "outputs": [
    {
     "data": {
      "text/plain": [
       "\n",
       "Call:\n",
       "lm(formula = Percent.of.feeds.taken.by.mouth.at.discharge ~ Extubation.failure, \n",
       "    data = dat)\n",
       "\n",
       "Residuals:\n",
       "    Min      1Q  Median      3Q     Max \n",
       "-1.1858 -0.1858 -0.1258  0.1453  0.8564 \n",
       "\n",
       "Coefficients:\n",
       "                    Estimate Std. Error t value Pr(>|t|)    \n",
       "(Intercept)          0.18577    0.04058   4.578 1.21e-05 ***\n",
       "Extubation.failureY -0.04213    0.13120  -0.321    0.749    \n",
       "---\n",
       "Signif. codes:  0 ‘***’ 0.001 ‘**’ 0.01 ‘*’ 0.05 ‘.’ 0.1 ‘ ’ 1\n",
       "\n",
       "Residual standard error: 0.4138 on 113 degrees of freedom\n",
       "Multiple R-squared:  0.0009118,\tAdjusted R-squared:  -0.00793 \n",
       "F-statistic: 0.1031 on 1 and 113 DF,  p-value: 0.7487\n"
      ]
     },
     "metadata": {},
     "output_type": "display_data"
    }
   ],
   "source": [
    "reg6 <- lm(data=dat,Percent.of.feeds.taken.by.mouth.at.discharge ~ Extubation.failure)\n",
    "summary(reg6)"
   ]
  },
  {
   "cell_type": "code",
   "execution_count": 10,
   "id": "b862604b",
   "metadata": {},
   "outputs": [
    {
     "data": {
      "text/plain": [
       "\n",
       "Call:\n",
       "lm(formula = Percent.of.feeds.taken.by.mouth.at.discharge ~ Length.of.intubation..days., \n",
       "    data = dat)\n",
       "\n",
       "Residuals:\n",
       "     Min       1Q   Median       3Q      Max \n",
       "-1.32159 -0.17472 -0.09289  0.16919  0.85264 \n",
       "\n",
       "Coefficients:\n",
       "                            Estimate Std. Error t value Pr(>|t|)    \n",
       "(Intercept)                  0.35326    0.07284   4.850 3.98e-06 ***\n",
       "Length.of.intubation..days. -0.03168    0.01155  -2.744  0.00707 ** \n",
       "---\n",
       "Signif. codes:  0 ‘***’ 0.001 ‘**’ 0.01 ‘*’ 0.05 ‘.’ 0.1 ‘ ’ 1\n",
       "\n",
       "Residual standard error: 0.4009 on 113 degrees of freedom\n",
       "Multiple R-squared:  0.06245,\tAdjusted R-squared:  0.05415 \n",
       "F-statistic: 7.527 on 1 and 113 DF,  p-value: 0.007071\n"
      ]
     },
     "metadata": {},
     "output_type": "display_data"
    }
   ],
   "source": [
    "reg7 <- lm(data=dat,Percent.of.feeds.taken.by.mouth.at.discharge ~ Length.of.intubation..days.)\n",
    "summary(reg7)"
   ]
  },
  {
   "cell_type": "code",
   "execution_count": 11,
   "id": "99f3d407",
   "metadata": {},
   "outputs": [
    {
     "data": {
      "text/plain": [
       "\n",
       "Call:\n",
       "lm(formula = Percent.of.feeds.taken.by.mouth.at.discharge ~ Length.of.Stay..days., \n",
       "    data = dat)\n",
       "\n",
       "Residuals:\n",
       "    Min      1Q  Median      3Q     Max \n",
       "-1.1909 -0.1836 -0.1312  0.1338  0.9120 \n",
       "\n",
       "Coefficients:\n",
       "                       Estimate Std. Error t value Pr(>|t|)  \n",
       "(Intercept)            0.213896   0.082029   2.608   0.0103 *\n",
       "Length.of.Stay..days. -0.001210   0.002724  -0.444   0.6578  \n",
       "---\n",
       "Signif. codes:  0 ‘***’ 0.001 ‘**’ 0.01 ‘*’ 0.05 ‘.’ 0.1 ‘ ’ 1\n",
       "\n",
       "Residual standard error: 0.4136 on 113 degrees of freedom\n",
       "Multiple R-squared:  0.001743,\tAdjusted R-squared:  -0.007091 \n",
       "F-statistic: 0.1973 on 1 and 113 DF,  p-value: 0.6578\n"
      ]
     },
     "metadata": {},
     "output_type": "display_data"
    }
   ],
   "source": [
    "reg8 <- lm(data=dat,Percent.of.feeds.taken.by.mouth.at.discharge ~ Length.of.Stay..days.)\n",
    "summary(reg8)"
   ]
  },
  {
   "cell_type": "code",
   "execution_count": 12,
   "id": "6e6d1874",
   "metadata": {},
   "outputs": [
    {
     "data": {
      "text/plain": [
       "\n",
       "Call:\n",
       "lm(formula = Percent.of.feeds.taken.by.mouth.at.discharge ~ GI.Complication, \n",
       "    data = dat)\n",
       "\n",
       "Residuals:\n",
       "    Min      1Q  Median      3Q     Max \n",
       "-1.2219 -0.2219 -0.1619  0.2607  0.7781 \n",
       "\n",
       "Coefficients:\n",
       "                Estimate Std. Error t value Pr(>|t|)    \n",
       "(Intercept)      0.22194    0.03908   5.680 1.06e-07 ***\n",
       "GI.Complication -0.38528    0.12096  -3.185  0.00187 ** \n",
       "---\n",
       "Signif. codes:  0 ‘***’ 0.001 ‘**’ 0.01 ‘*’ 0.05 ‘.’ 0.1 ‘ ’ 1\n",
       "\n",
       "Residual standard error: 0.3966 on 113 degrees of freedom\n",
       "Multiple R-squared:  0.08238,\tAdjusted R-squared:  0.07426 \n",
       "F-statistic: 10.14 on 1 and 113 DF,  p-value: 0.001871\n"
      ]
     },
     "metadata": {},
     "output_type": "display_data"
    }
   ],
   "source": [
    "reg9 <- lm(data=dat,Percent.of.feeds.taken.by.mouth.at.discharge ~ GI.Complication)\n",
    "summary(reg9)"
   ]
  },
  {
   "cell_type": "code",
   "execution_count": 13,
   "id": "02f423e1",
   "metadata": {},
   "outputs": [
    {
     "data": {
      "text/plain": [
       "\n",
       "Call:\n",
       "lm(formula = Percent.of.feeds.taken.by.mouth.at.discharge ~ Cardiac.Anatomy, \n",
       "    data = dat)\n",
       "\n",
       "Residuals:\n",
       "    Min      1Q  Median      3Q     Max \n",
       "-1.2121 -0.1775 -0.1234  0.1525  0.8470 \n",
       "\n",
       "Coefficients:\n",
       "                Estimate Std. Error t value Pr(>|t|)\n",
       "(Intercept)      0.09385    0.13185   0.712    0.478\n",
       "Cardiac.Anatomy  0.02955    0.04240   0.697    0.487\n",
       "\n",
       "Residual standard error: 0.4131 on 113 degrees of freedom\n",
       "Multiple R-squared:  0.004281,\tAdjusted R-squared:  -0.004531 \n",
       "F-statistic: 0.4858 on 1 and 113 DF,  p-value: 0.4872\n"
      ]
     },
     "metadata": {},
     "output_type": "display_data"
    }
   ],
   "source": [
    "reg10 <- lm(data=dat,Percent.of.feeds.taken.by.mouth.at.discharge ~ Cardiac.Anatomy)\n",
    "summary(reg10)"
   ]
  },
  {
   "cell_type": "code",
   "execution_count": 14,
   "id": "7d341923",
   "metadata": {},
   "outputs": [
    {
     "data": {
      "text/plain": [
       "\n",
       "Call:\n",
       "lm(formula = Percent.of.feeds.taken.by.mouth.at.discharge ~ Genetic.Syndrome.or.Chromosomal.Abnormality, \n",
       "    data = dat)\n",
       "\n",
       "Residuals:\n",
       "    Min      1Q  Median      3Q     Max \n",
       "-1.1998 -0.1998 -0.1133  0.1634  0.8002 \n",
       "\n",
       "Coefficients:\n",
       "                                            Estimate Std. Error t value\n",
       "(Intercept)                                  0.19978    0.04324   4.620\n",
       "Genetic.Syndrome.or.Chromosomal.Abnormality -0.08645    0.09465  -0.913\n",
       "                                            Pr(>|t|)    \n",
       "(Intercept)                                 1.02e-05 ***\n",
       "Genetic.Syndrome.or.Chromosomal.Abnormality    0.363    \n",
       "---\n",
       "Signif. codes:  0 ‘***’ 0.001 ‘**’ 0.01 ‘*’ 0.05 ‘.’ 0.1 ‘ ’ 1\n",
       "\n",
       "Residual standard error: 0.4125 on 113 degrees of freedom\n",
       "Multiple R-squared:  0.007328,\tAdjusted R-squared:  -0.001456 \n",
       "F-statistic: 0.8342 on 1 and 113 DF,  p-value: 0.363\n"
      ]
     },
     "metadata": {},
     "output_type": "display_data"
    }
   ],
   "source": [
    "reg11 <- lm(data=dat,Percent.of.feeds.taken.by.mouth.at.discharge ~ Genetic.Syndrome.or.Chromosomal.Abnormality)\n",
    "summary(reg11)"
   ]
  },
  {
   "cell_type": "code",
   "execution_count": 15,
   "id": "9209cade",
   "metadata": {},
   "outputs": [
    {
     "data": {
      "text/plain": [
       "\n",
       "Call:\n",
       "lm(formula = Percent.of.feeds.taken.by.mouth.at.discharge ~ Premature, \n",
       "    data = dat)\n",
       "\n",
       "Residuals:\n",
       "    Min      1Q  Median      3Q     Max \n",
       "-1.1889 -0.1889 -0.1289  0.1261  0.8700 \n",
       "\n",
       "Coefficients:\n",
       "            Estimate Std. Error t value Pr(>|t|)  \n",
       "(Intercept)  0.24782    0.13779   1.798   0.0748 .\n",
       "Premature   -0.05891    0.11793  -0.500   0.6184  \n",
       "---\n",
       "Signif. codes:  0 ‘***’ 0.001 ‘**’ 0.01 ‘*’ 0.05 ‘.’ 0.1 ‘ ’ 1\n",
       "\n",
       "Residual standard error: 0.4135 on 113 degrees of freedom\n",
       "Multiple R-squared:  0.002203,\tAdjusted R-squared:  -0.006627 \n",
       "F-statistic: 0.2495 on 1 and 113 DF,  p-value: 0.6184\n"
      ]
     },
     "metadata": {},
     "output_type": "display_data"
    }
   ],
   "source": [
    "reg12 <- lm(data=dat,Percent.of.feeds.taken.by.mouth.at.discharge ~ Premature)\n",
    "summary(reg12)"
   ]
  },
  {
   "cell_type": "code",
   "execution_count": null,
   "id": "b1fcfe8c",
   "metadata": {},
   "outputs": [],
   "source": []
  }
 ],
 "metadata": {
  "kernelspec": {
   "display_name": "R",
   "language": "R",
   "name": "ir"
  },
  "language_info": {
   "codemirror_mode": "r",
   "file_extension": ".r",
   "mimetype": "text/x-r-source",
   "name": "R",
   "pygments_lexer": "r",
   "version": "4.1.2"
  }
 },
 "nbformat": 4,
 "nbformat_minor": 5
}
